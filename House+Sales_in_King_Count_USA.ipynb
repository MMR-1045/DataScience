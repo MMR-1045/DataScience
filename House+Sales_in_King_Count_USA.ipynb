{
 "cells": [
  {
   "cell_type": "markdown",
   "metadata": {},
   "source": [
    "# House Sales in King County, USA"
   ]
  },
  {
   "cell_type": "markdown",
   "metadata": {},
   "source": [
    "This dataset contains house sale prices for King County, which includes Seattle. It includes homes sold between May 2014 and May 2015."
   ]
  },
  {
   "cell_type": "markdown",
   "metadata": {},
   "source": [
    "<b>id</b> :a notation for a house\n",
    "\n",
    "<b> date</b>: Date house was sold\n",
    "\n",
    "\n",
    "<b>price</b>: Price is prediction target\n",
    "\n",
    "\n",
    "<b>bedrooms</b>: Number of Bedrooms/House\n",
    "\n",
    "\n",
    "<b>bathrooms</b>: Number of bathrooms/bedrooms\n",
    "\n",
    "<b>sqft_living</b>: square footage of the home\n",
    "\n",
    "<b>sqft_lot</b>: square footage of the lot\n",
    "\n",
    "\n",
    "<b>floors</b> :Total floors (levels) in house\n",
    "\n",
    "\n",
    "<b>waterfront</b> :House which has a view to a waterfront\n",
    "\n",
    "\n",
    "<b>view</b>: Has been viewed\n",
    "\n",
    "\n",
    "<b>condition</b> :How good the condition is  Overall\n",
    "\n",
    "<b>grade</b>: overall grade given to the housing unit, based on King County grading system\n",
    "\n",
    "\n",
    "<b>sqft_above</b> :square footage of house apart from basement\n",
    "\n",
    "\n",
    "<b>sqft_basement</b>: square footage of the basement\n",
    "\n",
    "<b>yr_built</b> :Built Year\n",
    "\n",
    "\n",
    "<b>yr_renovated</b> :Year when house was renovated\n",
    "\n",
    "<b>zipcode</b>:zip code\n",
    "\n",
    "\n",
    "<b>lat</b>: Latitude coordinate\n",
    "\n",
    "<b>long</b>: Longitude coordinate\n",
    "\n",
    "<b>sqft_living15</b> :Living room area in 2015(implies-- some renovations) This might or might not have affected the lotsize area\n",
    "\n",
    "\n",
    "<b>sqft_lot15</b> :lotSize area in 2015(implies-- some renovations)"
   ]
  },
  {
   "cell_type": "markdown",
   "metadata": {},
   "source": [
    "You will require the following libraries "
   ]
  },
  {
   "cell_type": "code",
   "execution_count": 1,
   "metadata": {
    "collapsed": true
   },
   "outputs": [],
   "source": [
    "import pandas as pd\n",
    "import matplotlib.pyplot as plt\n",
    "import numpy as np\n",
    "import seaborn as sns\n",
    "from sklearn.pipeline import Pipeline\n",
    "from sklearn.preprocessing import StandardScaler,PolynomialFeatures\n",
    "%matplotlib inline"
   ]
  },
  {
   "cell_type": "markdown",
   "metadata": {},
   "source": [
    "# 1.0 Importing the Data "
   ]
  },
  {
   "cell_type": "markdown",
   "metadata": {},
   "source": [
    " Load the csv:  "
   ]
  },
  {
   "cell_type": "code",
   "execution_count": 49,
   "metadata": {
    "collapsed": true
   },
   "outputs": [],
   "source": [
    "file_name='https://s3-api.us-geo.objectstorage.softlayer.net/cf-courses-data/CognitiveClass/DA0101EN/coursera/project/kc_house_data_NaN.csv'\n",
    "df=pd.read_csv(file_name)"
   ]
  },
  {
   "cell_type": "markdown",
   "metadata": {},
   "source": [
    "\n",
    "we use the method <code>head</code> to display the first 5 columns of the dataframe."
   ]
  },
  {
   "cell_type": "code",
   "execution_count": 3,
   "metadata": {},
   "outputs": [
    {
     "data": {
      "text/html": [
       "<div>\n",
       "<table border=\"1\" class=\"dataframe\">\n",
       "  <thead>\n",
       "    <tr style=\"text-align: right;\">\n",
       "      <th></th>\n",
       "      <th>Unnamed: 0</th>\n",
       "      <th>id</th>\n",
       "      <th>date</th>\n",
       "      <th>price</th>\n",
       "      <th>bedrooms</th>\n",
       "      <th>bathrooms</th>\n",
       "      <th>sqft_living</th>\n",
       "      <th>sqft_lot</th>\n",
       "      <th>floors</th>\n",
       "      <th>waterfront</th>\n",
       "      <th>...</th>\n",
       "      <th>grade</th>\n",
       "      <th>sqft_above</th>\n",
       "      <th>sqft_basement</th>\n",
       "      <th>yr_built</th>\n",
       "      <th>yr_renovated</th>\n",
       "      <th>zipcode</th>\n",
       "      <th>lat</th>\n",
       "      <th>long</th>\n",
       "      <th>sqft_living15</th>\n",
       "      <th>sqft_lot15</th>\n",
       "    </tr>\n",
       "  </thead>\n",
       "  <tbody>\n",
       "    <tr>\n",
       "      <th>0</th>\n",
       "      <td>0</td>\n",
       "      <td>7129300520</td>\n",
       "      <td>20141013T000000</td>\n",
       "      <td>221900.0</td>\n",
       "      <td>3.0</td>\n",
       "      <td>1.00</td>\n",
       "      <td>1180</td>\n",
       "      <td>5650</td>\n",
       "      <td>1.0</td>\n",
       "      <td>0</td>\n",
       "      <td>...</td>\n",
       "      <td>7</td>\n",
       "      <td>1180</td>\n",
       "      <td>0</td>\n",
       "      <td>1955</td>\n",
       "      <td>0</td>\n",
       "      <td>98178</td>\n",
       "      <td>47.5112</td>\n",
       "      <td>-122.257</td>\n",
       "      <td>1340</td>\n",
       "      <td>5650</td>\n",
       "    </tr>\n",
       "    <tr>\n",
       "      <th>1</th>\n",
       "      <td>1</td>\n",
       "      <td>6414100192</td>\n",
       "      <td>20141209T000000</td>\n",
       "      <td>538000.0</td>\n",
       "      <td>3.0</td>\n",
       "      <td>2.25</td>\n",
       "      <td>2570</td>\n",
       "      <td>7242</td>\n",
       "      <td>2.0</td>\n",
       "      <td>0</td>\n",
       "      <td>...</td>\n",
       "      <td>7</td>\n",
       "      <td>2170</td>\n",
       "      <td>400</td>\n",
       "      <td>1951</td>\n",
       "      <td>1991</td>\n",
       "      <td>98125</td>\n",
       "      <td>47.7210</td>\n",
       "      <td>-122.319</td>\n",
       "      <td>1690</td>\n",
       "      <td>7639</td>\n",
       "    </tr>\n",
       "    <tr>\n",
       "      <th>2</th>\n",
       "      <td>2</td>\n",
       "      <td>5631500400</td>\n",
       "      <td>20150225T000000</td>\n",
       "      <td>180000.0</td>\n",
       "      <td>2.0</td>\n",
       "      <td>1.00</td>\n",
       "      <td>770</td>\n",
       "      <td>10000</td>\n",
       "      <td>1.0</td>\n",
       "      <td>0</td>\n",
       "      <td>...</td>\n",
       "      <td>6</td>\n",
       "      <td>770</td>\n",
       "      <td>0</td>\n",
       "      <td>1933</td>\n",
       "      <td>0</td>\n",
       "      <td>98028</td>\n",
       "      <td>47.7379</td>\n",
       "      <td>-122.233</td>\n",
       "      <td>2720</td>\n",
       "      <td>8062</td>\n",
       "    </tr>\n",
       "    <tr>\n",
       "      <th>3</th>\n",
       "      <td>3</td>\n",
       "      <td>2487200875</td>\n",
       "      <td>20141209T000000</td>\n",
       "      <td>604000.0</td>\n",
       "      <td>4.0</td>\n",
       "      <td>3.00</td>\n",
       "      <td>1960</td>\n",
       "      <td>5000</td>\n",
       "      <td>1.0</td>\n",
       "      <td>0</td>\n",
       "      <td>...</td>\n",
       "      <td>7</td>\n",
       "      <td>1050</td>\n",
       "      <td>910</td>\n",
       "      <td>1965</td>\n",
       "      <td>0</td>\n",
       "      <td>98136</td>\n",
       "      <td>47.5208</td>\n",
       "      <td>-122.393</td>\n",
       "      <td>1360</td>\n",
       "      <td>5000</td>\n",
       "    </tr>\n",
       "    <tr>\n",
       "      <th>4</th>\n",
       "      <td>4</td>\n",
       "      <td>1954400510</td>\n",
       "      <td>20150218T000000</td>\n",
       "      <td>510000.0</td>\n",
       "      <td>3.0</td>\n",
       "      <td>2.00</td>\n",
       "      <td>1680</td>\n",
       "      <td>8080</td>\n",
       "      <td>1.0</td>\n",
       "      <td>0</td>\n",
       "      <td>...</td>\n",
       "      <td>8</td>\n",
       "      <td>1680</td>\n",
       "      <td>0</td>\n",
       "      <td>1987</td>\n",
       "      <td>0</td>\n",
       "      <td>98074</td>\n",
       "      <td>47.6168</td>\n",
       "      <td>-122.045</td>\n",
       "      <td>1800</td>\n",
       "      <td>7503</td>\n",
       "    </tr>\n",
       "  </tbody>\n",
       "</table>\n",
       "<p>5 rows × 22 columns</p>\n",
       "</div>"
      ],
      "text/plain": [
       "   Unnamed: 0          id             date     price  bedrooms  bathrooms  \\\n",
       "0           0  7129300520  20141013T000000  221900.0       3.0       1.00   \n",
       "1           1  6414100192  20141209T000000  538000.0       3.0       2.25   \n",
       "2           2  5631500400  20150225T000000  180000.0       2.0       1.00   \n",
       "3           3  2487200875  20141209T000000  604000.0       4.0       3.00   \n",
       "4           4  1954400510  20150218T000000  510000.0       3.0       2.00   \n",
       "\n",
       "   sqft_living  sqft_lot  floors  waterfront     ...      grade  sqft_above  \\\n",
       "0         1180      5650     1.0           0     ...          7        1180   \n",
       "1         2570      7242     2.0           0     ...          7        2170   \n",
       "2          770     10000     1.0           0     ...          6         770   \n",
       "3         1960      5000     1.0           0     ...          7        1050   \n",
       "4         1680      8080     1.0           0     ...          8        1680   \n",
       "\n",
       "   sqft_basement  yr_built  yr_renovated  zipcode      lat     long  \\\n",
       "0              0      1955             0    98178  47.5112 -122.257   \n",
       "1            400      1951          1991    98125  47.7210 -122.319   \n",
       "2              0      1933             0    98028  47.7379 -122.233   \n",
       "3            910      1965             0    98136  47.5208 -122.393   \n",
       "4              0      1987             0    98074  47.6168 -122.045   \n",
       "\n",
       "   sqft_living15  sqft_lot15  \n",
       "0           1340        5650  \n",
       "1           1690        7639  \n",
       "2           2720        8062  \n",
       "3           1360        5000  \n",
       "4           1800        7503  \n",
       "\n",
       "[5 rows x 22 columns]"
      ]
     },
     "execution_count": 3,
     "metadata": {},
     "output_type": "execute_result"
    }
   ],
   "source": [
    "df.head()"
   ]
  },
  {
   "cell_type": "markdown",
   "metadata": {},
   "source": [
    "#### Question 1 \n",
    "Display the data types of each column using the attribute dtype, then take a screenshot and submit it, include your code in the image. "
   ]
  },
  {
   "cell_type": "code",
   "execution_count": 34,
   "metadata": {},
   "outputs": [
    {
     "data": {
      "text/plain": [
       "Unnamed: 0         int64\n",
       "id                 int64\n",
       "date              object\n",
       "price            float64\n",
       "bedrooms         float64\n",
       "bathrooms        float64\n",
       "sqft_living        int64\n",
       "sqft_lot           int64\n",
       "floors           float64\n",
       "waterfront         int64\n",
       "view               int64\n",
       "condition          int64\n",
       "grade              int64\n",
       "sqft_above         int64\n",
       "sqft_basement      int64\n",
       "yr_built           int64\n",
       "yr_renovated       int64\n",
       "zipcode            int64\n",
       "lat              float64\n",
       "long             float64\n",
       "sqft_living15      int64\n",
       "sqft_lot15         int64\n",
       "dtype: object"
      ]
     },
     "execution_count": 34,
     "metadata": {},
     "output_type": "execute_result"
    }
   ],
   "source": [
    "df.dtypes"
   ]
  },
  {
   "cell_type": "markdown",
   "metadata": {},
   "source": [
    "We use the method describe to obtain a statistical summary of the dataframe."
   ]
  },
  {
   "cell_type": "code",
   "execution_count": 35,
   "metadata": {},
   "outputs": [
    {
     "data": {
      "text/html": [
       "<div>\n",
       "<table border=\"1\" class=\"dataframe\">\n",
       "  <thead>\n",
       "    <tr style=\"text-align: right;\">\n",
       "      <th></th>\n",
       "      <th>Unnamed: 0</th>\n",
       "      <th>id</th>\n",
       "      <th>price</th>\n",
       "      <th>bedrooms</th>\n",
       "      <th>bathrooms</th>\n",
       "      <th>sqft_living</th>\n",
       "      <th>sqft_lot</th>\n",
       "      <th>floors</th>\n",
       "      <th>waterfront</th>\n",
       "      <th>view</th>\n",
       "      <th>...</th>\n",
       "      <th>grade</th>\n",
       "      <th>sqft_above</th>\n",
       "      <th>sqft_basement</th>\n",
       "      <th>yr_built</th>\n",
       "      <th>yr_renovated</th>\n",
       "      <th>zipcode</th>\n",
       "      <th>lat</th>\n",
       "      <th>long</th>\n",
       "      <th>sqft_living15</th>\n",
       "      <th>sqft_lot15</th>\n",
       "    </tr>\n",
       "  </thead>\n",
       "  <tbody>\n",
       "    <tr>\n",
       "      <th>count</th>\n",
       "      <td>21613.00000</td>\n",
       "      <td>2.161300e+04</td>\n",
       "      <td>2.161300e+04</td>\n",
       "      <td>21600.000000</td>\n",
       "      <td>21603.000000</td>\n",
       "      <td>21613.000000</td>\n",
       "      <td>2.161300e+04</td>\n",
       "      <td>21613.000000</td>\n",
       "      <td>21613.000000</td>\n",
       "      <td>21613.000000</td>\n",
       "      <td>...</td>\n",
       "      <td>21613.000000</td>\n",
       "      <td>21613.000000</td>\n",
       "      <td>21613.000000</td>\n",
       "      <td>21613.000000</td>\n",
       "      <td>21613.000000</td>\n",
       "      <td>21613.000000</td>\n",
       "      <td>21613.000000</td>\n",
       "      <td>21613.000000</td>\n",
       "      <td>21613.000000</td>\n",
       "      <td>21613.000000</td>\n",
       "    </tr>\n",
       "    <tr>\n",
       "      <th>mean</th>\n",
       "      <td>10806.00000</td>\n",
       "      <td>4.580302e+09</td>\n",
       "      <td>5.400881e+05</td>\n",
       "      <td>3.372870</td>\n",
       "      <td>2.115736</td>\n",
       "      <td>2079.899736</td>\n",
       "      <td>1.510697e+04</td>\n",
       "      <td>1.494309</td>\n",
       "      <td>0.007542</td>\n",
       "      <td>0.234303</td>\n",
       "      <td>...</td>\n",
       "      <td>7.656873</td>\n",
       "      <td>1788.390691</td>\n",
       "      <td>291.509045</td>\n",
       "      <td>1971.005136</td>\n",
       "      <td>84.402258</td>\n",
       "      <td>98077.939805</td>\n",
       "      <td>47.560053</td>\n",
       "      <td>-122.213896</td>\n",
       "      <td>1986.552492</td>\n",
       "      <td>12768.455652</td>\n",
       "    </tr>\n",
       "    <tr>\n",
       "      <th>std</th>\n",
       "      <td>6239.28002</td>\n",
       "      <td>2.876566e+09</td>\n",
       "      <td>3.671272e+05</td>\n",
       "      <td>0.926657</td>\n",
       "      <td>0.768996</td>\n",
       "      <td>918.440897</td>\n",
       "      <td>4.142051e+04</td>\n",
       "      <td>0.539989</td>\n",
       "      <td>0.086517</td>\n",
       "      <td>0.766318</td>\n",
       "      <td>...</td>\n",
       "      <td>1.175459</td>\n",
       "      <td>828.090978</td>\n",
       "      <td>442.575043</td>\n",
       "      <td>29.373411</td>\n",
       "      <td>401.679240</td>\n",
       "      <td>53.505026</td>\n",
       "      <td>0.138564</td>\n",
       "      <td>0.140828</td>\n",
       "      <td>685.391304</td>\n",
       "      <td>27304.179631</td>\n",
       "    </tr>\n",
       "    <tr>\n",
       "      <th>min</th>\n",
       "      <td>0.00000</td>\n",
       "      <td>1.000102e+06</td>\n",
       "      <td>7.500000e+04</td>\n",
       "      <td>1.000000</td>\n",
       "      <td>0.500000</td>\n",
       "      <td>290.000000</td>\n",
       "      <td>5.200000e+02</td>\n",
       "      <td>1.000000</td>\n",
       "      <td>0.000000</td>\n",
       "      <td>0.000000</td>\n",
       "      <td>...</td>\n",
       "      <td>1.000000</td>\n",
       "      <td>290.000000</td>\n",
       "      <td>0.000000</td>\n",
       "      <td>1900.000000</td>\n",
       "      <td>0.000000</td>\n",
       "      <td>98001.000000</td>\n",
       "      <td>47.155900</td>\n",
       "      <td>-122.519000</td>\n",
       "      <td>399.000000</td>\n",
       "      <td>651.000000</td>\n",
       "    </tr>\n",
       "    <tr>\n",
       "      <th>25%</th>\n",
       "      <td>5403.00000</td>\n",
       "      <td>2.123049e+09</td>\n",
       "      <td>3.219500e+05</td>\n",
       "      <td>3.000000</td>\n",
       "      <td>1.750000</td>\n",
       "      <td>1427.000000</td>\n",
       "      <td>5.040000e+03</td>\n",
       "      <td>1.000000</td>\n",
       "      <td>0.000000</td>\n",
       "      <td>0.000000</td>\n",
       "      <td>...</td>\n",
       "      <td>7.000000</td>\n",
       "      <td>1190.000000</td>\n",
       "      <td>0.000000</td>\n",
       "      <td>1951.000000</td>\n",
       "      <td>0.000000</td>\n",
       "      <td>98033.000000</td>\n",
       "      <td>47.471000</td>\n",
       "      <td>-122.328000</td>\n",
       "      <td>1490.000000</td>\n",
       "      <td>5100.000000</td>\n",
       "    </tr>\n",
       "    <tr>\n",
       "      <th>50%</th>\n",
       "      <td>10806.00000</td>\n",
       "      <td>3.904930e+09</td>\n",
       "      <td>4.500000e+05</td>\n",
       "      <td>3.000000</td>\n",
       "      <td>2.250000</td>\n",
       "      <td>1910.000000</td>\n",
       "      <td>7.618000e+03</td>\n",
       "      <td>1.500000</td>\n",
       "      <td>0.000000</td>\n",
       "      <td>0.000000</td>\n",
       "      <td>...</td>\n",
       "      <td>7.000000</td>\n",
       "      <td>1560.000000</td>\n",
       "      <td>0.000000</td>\n",
       "      <td>1975.000000</td>\n",
       "      <td>0.000000</td>\n",
       "      <td>98065.000000</td>\n",
       "      <td>47.571800</td>\n",
       "      <td>-122.230000</td>\n",
       "      <td>1840.000000</td>\n",
       "      <td>7620.000000</td>\n",
       "    </tr>\n",
       "    <tr>\n",
       "      <th>75%</th>\n",
       "      <td>16209.00000</td>\n",
       "      <td>7.308900e+09</td>\n",
       "      <td>6.450000e+05</td>\n",
       "      <td>4.000000</td>\n",
       "      <td>2.500000</td>\n",
       "      <td>2550.000000</td>\n",
       "      <td>1.068800e+04</td>\n",
       "      <td>2.000000</td>\n",
       "      <td>0.000000</td>\n",
       "      <td>0.000000</td>\n",
       "      <td>...</td>\n",
       "      <td>8.000000</td>\n",
       "      <td>2210.000000</td>\n",
       "      <td>560.000000</td>\n",
       "      <td>1997.000000</td>\n",
       "      <td>0.000000</td>\n",
       "      <td>98118.000000</td>\n",
       "      <td>47.678000</td>\n",
       "      <td>-122.125000</td>\n",
       "      <td>2360.000000</td>\n",
       "      <td>10083.000000</td>\n",
       "    </tr>\n",
       "    <tr>\n",
       "      <th>max</th>\n",
       "      <td>21612.00000</td>\n",
       "      <td>9.900000e+09</td>\n",
       "      <td>7.700000e+06</td>\n",
       "      <td>33.000000</td>\n",
       "      <td>8.000000</td>\n",
       "      <td>13540.000000</td>\n",
       "      <td>1.651359e+06</td>\n",
       "      <td>3.500000</td>\n",
       "      <td>1.000000</td>\n",
       "      <td>4.000000</td>\n",
       "      <td>...</td>\n",
       "      <td>13.000000</td>\n",
       "      <td>9410.000000</td>\n",
       "      <td>4820.000000</td>\n",
       "      <td>2015.000000</td>\n",
       "      <td>2015.000000</td>\n",
       "      <td>98199.000000</td>\n",
       "      <td>47.777600</td>\n",
       "      <td>-121.315000</td>\n",
       "      <td>6210.000000</td>\n",
       "      <td>871200.000000</td>\n",
       "    </tr>\n",
       "  </tbody>\n",
       "</table>\n",
       "<p>8 rows × 21 columns</p>\n",
       "</div>"
      ],
      "text/plain": [
       "        Unnamed: 0            id         price      bedrooms     bathrooms  \\\n",
       "count  21613.00000  2.161300e+04  2.161300e+04  21600.000000  21603.000000   \n",
       "mean   10806.00000  4.580302e+09  5.400881e+05      3.372870      2.115736   \n",
       "std     6239.28002  2.876566e+09  3.671272e+05      0.926657      0.768996   \n",
       "min        0.00000  1.000102e+06  7.500000e+04      1.000000      0.500000   \n",
       "25%     5403.00000  2.123049e+09  3.219500e+05      3.000000      1.750000   \n",
       "50%    10806.00000  3.904930e+09  4.500000e+05      3.000000      2.250000   \n",
       "75%    16209.00000  7.308900e+09  6.450000e+05      4.000000      2.500000   \n",
       "max    21612.00000  9.900000e+09  7.700000e+06     33.000000      8.000000   \n",
       "\n",
       "        sqft_living      sqft_lot        floors    waterfront          view  \\\n",
       "count  21613.000000  2.161300e+04  21613.000000  21613.000000  21613.000000   \n",
       "mean    2079.899736  1.510697e+04      1.494309      0.007542      0.234303   \n",
       "std      918.440897  4.142051e+04      0.539989      0.086517      0.766318   \n",
       "min      290.000000  5.200000e+02      1.000000      0.000000      0.000000   \n",
       "25%     1427.000000  5.040000e+03      1.000000      0.000000      0.000000   \n",
       "50%     1910.000000  7.618000e+03      1.500000      0.000000      0.000000   \n",
       "75%     2550.000000  1.068800e+04      2.000000      0.000000      0.000000   \n",
       "max    13540.000000  1.651359e+06      3.500000      1.000000      4.000000   \n",
       "\n",
       "           ...               grade    sqft_above  sqft_basement      yr_built  \\\n",
       "count      ...        21613.000000  21613.000000   21613.000000  21613.000000   \n",
       "mean       ...            7.656873   1788.390691     291.509045   1971.005136   \n",
       "std        ...            1.175459    828.090978     442.575043     29.373411   \n",
       "min        ...            1.000000    290.000000       0.000000   1900.000000   \n",
       "25%        ...            7.000000   1190.000000       0.000000   1951.000000   \n",
       "50%        ...            7.000000   1560.000000       0.000000   1975.000000   \n",
       "75%        ...            8.000000   2210.000000     560.000000   1997.000000   \n",
       "max        ...           13.000000   9410.000000    4820.000000   2015.000000   \n",
       "\n",
       "       yr_renovated       zipcode           lat          long  sqft_living15  \\\n",
       "count  21613.000000  21613.000000  21613.000000  21613.000000   21613.000000   \n",
       "mean      84.402258  98077.939805     47.560053   -122.213896    1986.552492   \n",
       "std      401.679240     53.505026      0.138564      0.140828     685.391304   \n",
       "min        0.000000  98001.000000     47.155900   -122.519000     399.000000   \n",
       "25%        0.000000  98033.000000     47.471000   -122.328000    1490.000000   \n",
       "50%        0.000000  98065.000000     47.571800   -122.230000    1840.000000   \n",
       "75%        0.000000  98118.000000     47.678000   -122.125000    2360.000000   \n",
       "max     2015.000000  98199.000000     47.777600   -121.315000    6210.000000   \n",
       "\n",
       "          sqft_lot15  \n",
       "count   21613.000000  \n",
       "mean    12768.455652  \n",
       "std     27304.179631  \n",
       "min       651.000000  \n",
       "25%      5100.000000  \n",
       "50%      7620.000000  \n",
       "75%     10083.000000  \n",
       "max    871200.000000  \n",
       "\n",
       "[8 rows x 21 columns]"
      ]
     },
     "execution_count": 35,
     "metadata": {},
     "output_type": "execute_result"
    }
   ],
   "source": [
    "df.describe()"
   ]
  },
  {
   "cell_type": "markdown",
   "metadata": {},
   "source": [
    "# 2.0 Data Wrangling"
   ]
  },
  {
   "cell_type": "markdown",
   "metadata": {},
   "source": [
    "#### Question 2 \n",
    "Drop the columns <code>\"id\"</code>  and <code>\"Unnamed: 0\"</code> from axis 1 using the method <code>drop()</code>, then use the method <code>describe()</code> to obtain a statistical summary of the data. Take a screenshot and submit it, make sure the inplace parameter is set to <code>True</code>"
   ]
  },
  {
   "cell_type": "code",
   "execution_count": 4,
   "metadata": {},
   "outputs": [
    {
     "data": {
      "text/html": [
       "<div>\n",
       "<table border=\"1\" class=\"dataframe\">\n",
       "  <thead>\n",
       "    <tr style=\"text-align: right;\">\n",
       "      <th></th>\n",
       "      <th>price</th>\n",
       "      <th>bedrooms</th>\n",
       "      <th>bathrooms</th>\n",
       "      <th>sqft_living</th>\n",
       "      <th>sqft_lot</th>\n",
       "      <th>floors</th>\n",
       "      <th>waterfront</th>\n",
       "      <th>view</th>\n",
       "      <th>condition</th>\n",
       "      <th>grade</th>\n",
       "      <th>sqft_above</th>\n",
       "      <th>sqft_basement</th>\n",
       "      <th>yr_built</th>\n",
       "      <th>yr_renovated</th>\n",
       "      <th>zipcode</th>\n",
       "      <th>lat</th>\n",
       "      <th>long</th>\n",
       "      <th>sqft_living15</th>\n",
       "      <th>sqft_lot15</th>\n",
       "    </tr>\n",
       "  </thead>\n",
       "  <tbody>\n",
       "    <tr>\n",
       "      <th>count</th>\n",
       "      <td>2.161300e+04</td>\n",
       "      <td>21600.000000</td>\n",
       "      <td>21603.000000</td>\n",
       "      <td>21613.000000</td>\n",
       "      <td>2.161300e+04</td>\n",
       "      <td>21613.000000</td>\n",
       "      <td>21613.000000</td>\n",
       "      <td>21613.000000</td>\n",
       "      <td>21613.000000</td>\n",
       "      <td>21613.000000</td>\n",
       "      <td>21613.000000</td>\n",
       "      <td>21613.000000</td>\n",
       "      <td>21613.000000</td>\n",
       "      <td>21613.000000</td>\n",
       "      <td>21613.000000</td>\n",
       "      <td>21613.000000</td>\n",
       "      <td>21613.000000</td>\n",
       "      <td>21613.000000</td>\n",
       "      <td>21613.000000</td>\n",
       "    </tr>\n",
       "    <tr>\n",
       "      <th>mean</th>\n",
       "      <td>5.400881e+05</td>\n",
       "      <td>3.372870</td>\n",
       "      <td>2.115736</td>\n",
       "      <td>2079.899736</td>\n",
       "      <td>1.510697e+04</td>\n",
       "      <td>1.494309</td>\n",
       "      <td>0.007542</td>\n",
       "      <td>0.234303</td>\n",
       "      <td>3.409430</td>\n",
       "      <td>7.656873</td>\n",
       "      <td>1788.390691</td>\n",
       "      <td>291.509045</td>\n",
       "      <td>1971.005136</td>\n",
       "      <td>84.402258</td>\n",
       "      <td>98077.939805</td>\n",
       "      <td>47.560053</td>\n",
       "      <td>-122.213896</td>\n",
       "      <td>1986.552492</td>\n",
       "      <td>12768.455652</td>\n",
       "    </tr>\n",
       "    <tr>\n",
       "      <th>std</th>\n",
       "      <td>3.671272e+05</td>\n",
       "      <td>0.926657</td>\n",
       "      <td>0.768996</td>\n",
       "      <td>918.440897</td>\n",
       "      <td>4.142051e+04</td>\n",
       "      <td>0.539989</td>\n",
       "      <td>0.086517</td>\n",
       "      <td>0.766318</td>\n",
       "      <td>0.650743</td>\n",
       "      <td>1.175459</td>\n",
       "      <td>828.090978</td>\n",
       "      <td>442.575043</td>\n",
       "      <td>29.373411</td>\n",
       "      <td>401.679240</td>\n",
       "      <td>53.505026</td>\n",
       "      <td>0.138564</td>\n",
       "      <td>0.140828</td>\n",
       "      <td>685.391304</td>\n",
       "      <td>27304.179631</td>\n",
       "    </tr>\n",
       "    <tr>\n",
       "      <th>min</th>\n",
       "      <td>7.500000e+04</td>\n",
       "      <td>1.000000</td>\n",
       "      <td>0.500000</td>\n",
       "      <td>290.000000</td>\n",
       "      <td>5.200000e+02</td>\n",
       "      <td>1.000000</td>\n",
       "      <td>0.000000</td>\n",
       "      <td>0.000000</td>\n",
       "      <td>1.000000</td>\n",
       "      <td>1.000000</td>\n",
       "      <td>290.000000</td>\n",
       "      <td>0.000000</td>\n",
       "      <td>1900.000000</td>\n",
       "      <td>0.000000</td>\n",
       "      <td>98001.000000</td>\n",
       "      <td>47.155900</td>\n",
       "      <td>-122.519000</td>\n",
       "      <td>399.000000</td>\n",
       "      <td>651.000000</td>\n",
       "    </tr>\n",
       "    <tr>\n",
       "      <th>25%</th>\n",
       "      <td>3.219500e+05</td>\n",
       "      <td>3.000000</td>\n",
       "      <td>1.750000</td>\n",
       "      <td>1427.000000</td>\n",
       "      <td>5.040000e+03</td>\n",
       "      <td>1.000000</td>\n",
       "      <td>0.000000</td>\n",
       "      <td>0.000000</td>\n",
       "      <td>3.000000</td>\n",
       "      <td>7.000000</td>\n",
       "      <td>1190.000000</td>\n",
       "      <td>0.000000</td>\n",
       "      <td>1951.000000</td>\n",
       "      <td>0.000000</td>\n",
       "      <td>98033.000000</td>\n",
       "      <td>47.471000</td>\n",
       "      <td>-122.328000</td>\n",
       "      <td>1490.000000</td>\n",
       "      <td>5100.000000</td>\n",
       "    </tr>\n",
       "    <tr>\n",
       "      <th>50%</th>\n",
       "      <td>4.500000e+05</td>\n",
       "      <td>3.000000</td>\n",
       "      <td>2.250000</td>\n",
       "      <td>1910.000000</td>\n",
       "      <td>7.618000e+03</td>\n",
       "      <td>1.500000</td>\n",
       "      <td>0.000000</td>\n",
       "      <td>0.000000</td>\n",
       "      <td>3.000000</td>\n",
       "      <td>7.000000</td>\n",
       "      <td>1560.000000</td>\n",
       "      <td>0.000000</td>\n",
       "      <td>1975.000000</td>\n",
       "      <td>0.000000</td>\n",
       "      <td>98065.000000</td>\n",
       "      <td>47.571800</td>\n",
       "      <td>-122.230000</td>\n",
       "      <td>1840.000000</td>\n",
       "      <td>7620.000000</td>\n",
       "    </tr>\n",
       "    <tr>\n",
       "      <th>75%</th>\n",
       "      <td>6.450000e+05</td>\n",
       "      <td>4.000000</td>\n",
       "      <td>2.500000</td>\n",
       "      <td>2550.000000</td>\n",
       "      <td>1.068800e+04</td>\n",
       "      <td>2.000000</td>\n",
       "      <td>0.000000</td>\n",
       "      <td>0.000000</td>\n",
       "      <td>4.000000</td>\n",
       "      <td>8.000000</td>\n",
       "      <td>2210.000000</td>\n",
       "      <td>560.000000</td>\n",
       "      <td>1997.000000</td>\n",
       "      <td>0.000000</td>\n",
       "      <td>98118.000000</td>\n",
       "      <td>47.678000</td>\n",
       "      <td>-122.125000</td>\n",
       "      <td>2360.000000</td>\n",
       "      <td>10083.000000</td>\n",
       "    </tr>\n",
       "    <tr>\n",
       "      <th>max</th>\n",
       "      <td>7.700000e+06</td>\n",
       "      <td>33.000000</td>\n",
       "      <td>8.000000</td>\n",
       "      <td>13540.000000</td>\n",
       "      <td>1.651359e+06</td>\n",
       "      <td>3.500000</td>\n",
       "      <td>1.000000</td>\n",
       "      <td>4.000000</td>\n",
       "      <td>5.000000</td>\n",
       "      <td>13.000000</td>\n",
       "      <td>9410.000000</td>\n",
       "      <td>4820.000000</td>\n",
       "      <td>2015.000000</td>\n",
       "      <td>2015.000000</td>\n",
       "      <td>98199.000000</td>\n",
       "      <td>47.777600</td>\n",
       "      <td>-121.315000</td>\n",
       "      <td>6210.000000</td>\n",
       "      <td>871200.000000</td>\n",
       "    </tr>\n",
       "  </tbody>\n",
       "</table>\n",
       "</div>"
      ],
      "text/plain": [
       "              price      bedrooms     bathrooms   sqft_living      sqft_lot  \\\n",
       "count  2.161300e+04  21600.000000  21603.000000  21613.000000  2.161300e+04   \n",
       "mean   5.400881e+05      3.372870      2.115736   2079.899736  1.510697e+04   \n",
       "std    3.671272e+05      0.926657      0.768996    918.440897  4.142051e+04   \n",
       "min    7.500000e+04      1.000000      0.500000    290.000000  5.200000e+02   \n",
       "25%    3.219500e+05      3.000000      1.750000   1427.000000  5.040000e+03   \n",
       "50%    4.500000e+05      3.000000      2.250000   1910.000000  7.618000e+03   \n",
       "75%    6.450000e+05      4.000000      2.500000   2550.000000  1.068800e+04   \n",
       "max    7.700000e+06     33.000000      8.000000  13540.000000  1.651359e+06   \n",
       "\n",
       "             floors    waterfront          view     condition         grade  \\\n",
       "count  21613.000000  21613.000000  21613.000000  21613.000000  21613.000000   \n",
       "mean       1.494309      0.007542      0.234303      3.409430      7.656873   \n",
       "std        0.539989      0.086517      0.766318      0.650743      1.175459   \n",
       "min        1.000000      0.000000      0.000000      1.000000      1.000000   \n",
       "25%        1.000000      0.000000      0.000000      3.000000      7.000000   \n",
       "50%        1.500000      0.000000      0.000000      3.000000      7.000000   \n",
       "75%        2.000000      0.000000      0.000000      4.000000      8.000000   \n",
       "max        3.500000      1.000000      4.000000      5.000000     13.000000   \n",
       "\n",
       "         sqft_above  sqft_basement      yr_built  yr_renovated       zipcode  \\\n",
       "count  21613.000000   21613.000000  21613.000000  21613.000000  21613.000000   \n",
       "mean    1788.390691     291.509045   1971.005136     84.402258  98077.939805   \n",
       "std      828.090978     442.575043     29.373411    401.679240     53.505026   \n",
       "min      290.000000       0.000000   1900.000000      0.000000  98001.000000   \n",
       "25%     1190.000000       0.000000   1951.000000      0.000000  98033.000000   \n",
       "50%     1560.000000       0.000000   1975.000000      0.000000  98065.000000   \n",
       "75%     2210.000000     560.000000   1997.000000      0.000000  98118.000000   \n",
       "max     9410.000000    4820.000000   2015.000000   2015.000000  98199.000000   \n",
       "\n",
       "                lat          long  sqft_living15     sqft_lot15  \n",
       "count  21613.000000  21613.000000   21613.000000   21613.000000  \n",
       "mean      47.560053   -122.213896    1986.552492   12768.455652  \n",
       "std        0.138564      0.140828     685.391304   27304.179631  \n",
       "min       47.155900   -122.519000     399.000000     651.000000  \n",
       "25%       47.471000   -122.328000    1490.000000    5100.000000  \n",
       "50%       47.571800   -122.230000    1840.000000    7620.000000  \n",
       "75%       47.678000   -122.125000    2360.000000   10083.000000  \n",
       "max       47.777600   -121.315000    6210.000000  871200.000000  "
      ]
     },
     "execution_count": 4,
     "metadata": {},
     "output_type": "execute_result"
    }
   ],
   "source": [
    "df.drop(['id','Unnamed: 0'],axis=1,inplace=True)\n",
    "df.describe()"
   ]
  },
  {
   "cell_type": "markdown",
   "metadata": {},
   "source": [
    "we can see we have missing values for the columns <code> bedrooms</code>  and <code> bathrooms </code>"
   ]
  },
  {
   "cell_type": "code",
   "execution_count": 5,
   "metadata": {},
   "outputs": [
    {
     "name": "stdout",
     "output_type": "stream",
     "text": [
      "number of NaN values for the column bedrooms : 13\n",
      "number of NaN values for the column bathrooms : 10\n"
     ]
    }
   ],
   "source": [
    "print(\"number of NaN values for the column bedrooms :\", df['bedrooms'].isnull().sum())\n",
    "print(\"number of NaN values for the column bathrooms :\", df['bathrooms'].isnull().sum())\n"
   ]
  },
  {
   "cell_type": "markdown",
   "metadata": {},
   "source": [
    "\n",
    "We can replace the missing values of the column <code>'bedrooms'</code> with the mean of the column  <code>'bedrooms' </code> using the method replace. Don't forget to set the <code>inplace</code> parameter top <code>True</code>"
   ]
  },
  {
   "cell_type": "code",
   "execution_count": 6,
   "metadata": {
    "collapsed": true
   },
   "outputs": [],
   "source": [
    "mean=df['bedrooms'].mean()\n",
    "df['bedrooms'].replace(np.nan,mean, inplace=True)"
   ]
  },
  {
   "cell_type": "markdown",
   "metadata": {},
   "source": [
    "\n",
    "We also replace the missing values of the column <code>'bathrooms'</code> with the mean of the column  <code>'bedrooms' </codse> using the method replace.Don't forget to set the <code> inplace </code>  parameter top <code> Ture </code>"
   ]
  },
  {
   "cell_type": "code",
   "execution_count": 7,
   "metadata": {
    "collapsed": true
   },
   "outputs": [],
   "source": [
    "mean=df['bathrooms'].mean()\n",
    "df['bathrooms'].replace(np.nan,mean, inplace=True)"
   ]
  },
  {
   "cell_type": "code",
   "execution_count": 10,
   "metadata": {},
   "outputs": [
    {
     "name": "stdout",
     "output_type": "stream",
     "text": [
      "number of NaN values for the column bedrooms : 0\n",
      "number of NaN values for the column bathrooms : 0\n"
     ]
    }
   ],
   "source": [
    "print(\"number of NaN values for the column bedrooms :\", df['bedrooms'].isnull().sum())\n",
    "print(\"number of NaN values for the column bathrooms :\", df['bathrooms'].isnull().sum())"
   ]
  },
  {
   "cell_type": "markdown",
   "metadata": {},
   "source": [
    "# 3.0 Exploratory data analysis"
   ]
  },
  {
   "cell_type": "markdown",
   "metadata": {},
   "source": [
    "#### Question 3\n",
    "Use the method value_counts to count the number of houses with unique floor values, use the method .to_frame() to convert it to a dataframe.\n"
   ]
  },
  {
   "cell_type": "code",
   "execution_count": 9,
   "metadata": {},
   "outputs": [
    {
     "data": {
      "text/html": [
       "<div>\n",
       "<table border=\"1\" class=\"dataframe\">\n",
       "  <thead>\n",
       "    <tr style=\"text-align: right;\">\n",
       "      <th></th>\n",
       "      <th>floors</th>\n",
       "    </tr>\n",
       "  </thead>\n",
       "  <tbody>\n",
       "    <tr>\n",
       "      <th>1.0</th>\n",
       "      <td>10680</td>\n",
       "    </tr>\n",
       "    <tr>\n",
       "      <th>2.0</th>\n",
       "      <td>8241</td>\n",
       "    </tr>\n",
       "    <tr>\n",
       "      <th>1.5</th>\n",
       "      <td>1910</td>\n",
       "    </tr>\n",
       "    <tr>\n",
       "      <th>3.0</th>\n",
       "      <td>613</td>\n",
       "    </tr>\n",
       "    <tr>\n",
       "      <th>2.5</th>\n",
       "      <td>161</td>\n",
       "    </tr>\n",
       "    <tr>\n",
       "      <th>3.5</th>\n",
       "      <td>8</td>\n",
       "    </tr>\n",
       "  </tbody>\n",
       "</table>\n",
       "</div>"
      ],
      "text/plain": [
       "     floors\n",
       "1.0   10680\n",
       "2.0    8241\n",
       "1.5    1910\n",
       "3.0     613\n",
       "2.5     161\n",
       "3.5       8"
      ]
     },
     "execution_count": 9,
     "metadata": {},
     "output_type": "execute_result"
    }
   ],
   "source": [
    "df['floors'].value_counts().to_frame()"
   ]
  },
  {
   "cell_type": "markdown",
   "metadata": {},
   "source": [
    "### Question 4\n",
    "Use the function <code>boxplot</code> in the seaborn library  to  determine whether houses with a waterfront view or without a waterfront view have more price outliers ."
   ]
  },
  {
   "cell_type": "code",
   "execution_count": 10,
   "metadata": {},
   "outputs": [
    {
     "data": {
      "text/plain": [
       "<matplotlib.axes._subplots.AxesSubplot at 0x7f7c935818d0>"
      ]
     },
     "execution_count": 10,
     "metadata": {},
     "output_type": "execute_result"
    },
    {
     "data": {
      "image/png": "iVBORw0KGgoAAAANSUhEUgAAAZkAAAEICAYAAACNn4koAAAABHNCSVQICAgIfAhkiAAAAAlwSFlz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\nRK5CYII=\n",
      "text/plain": [
       "<matplotlib.figure.Figure at 0x7f7c93a44cf8>"
      ]
     },
     "metadata": {},
     "output_type": "display_data"
    }
   ],
   "source": [
    "sns.boxplot(x=\"waterfront\", y=\"price\", data=df)"
   ]
  },
  {
   "cell_type": "markdown",
   "metadata": {},
   "source": [
    "### Question 5\n",
    "Use the function <code> regplot</code>  in the seaborn library  to  determine if the feature <code>sqft_above</code> is negatively or positively correlated with price."
   ]
  },
  {
   "cell_type": "code",
   "execution_count": 11,
   "metadata": {},
   "outputs": [
    {
     "data": {
      "text/plain": [
       "<matplotlib.axes._subplots.AxesSubplot at 0x7f7c931e1828>"
      ]
     },
     "execution_count": 11,
     "metadata": {},
     "output_type": "execute_result"
    },
    {
     "data": {
      "image/png": "iVBORw0KGgoAAAANSUhEUgAAAZkAAAEICAYAAACNn4koAAAABHNCSVQICAgIfAhkiAAAAAlwSFlz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\nAy2GEpFUEzYbAAAAAElFTkSuQmCC\n",
      "text/plain": [
       "<matplotlib.figure.Figure at 0x7f7cd109f710>"
      ]
     },
     "metadata": {},
     "output_type": "display_data"
    }
   ],
   "source": [
    "sns.regplot(x='sqft_above',y='price',data=df)"
   ]
  },
  {
   "cell_type": "markdown",
   "metadata": {},
   "source": [
    "\n",
    "We can use the Pandas method <code>corr()</code>  to find the feature other than price that is most correlated with price."
   ]
  },
  {
   "cell_type": "code",
   "execution_count": 12,
   "metadata": {},
   "outputs": [
    {
     "data": {
      "text/plain": [
       "zipcode         -0.053203\n",
       "long             0.021626\n",
       "condition        0.036362\n",
       "yr_built         0.054012\n",
       "sqft_lot15       0.082447\n",
       "sqft_lot         0.089661\n",
       "yr_renovated     0.126434\n",
       "floors           0.256794\n",
       "waterfront       0.266369\n",
       "lat              0.307003\n",
       "bedrooms         0.308797\n",
       "sqft_basement    0.323816\n",
       "view             0.397293\n",
       "bathrooms        0.525738\n",
       "sqft_living15    0.585379\n",
       "sqft_above       0.605567\n",
       "grade            0.667434\n",
       "sqft_living      0.702035\n",
       "price            1.000000\n",
       "Name: price, dtype: float64"
      ]
     },
     "execution_count": 12,
     "metadata": {},
     "output_type": "execute_result"
    }
   ],
   "source": [
    "df.corr()['price'].sort_values()"
   ]
  },
  {
   "cell_type": "markdown",
   "metadata": {},
   "source": [
    "# Module 4: Model Development"
   ]
  },
  {
   "cell_type": "markdown",
   "metadata": {},
   "source": [
    "Import libraries "
   ]
  },
  {
   "cell_type": "code",
   "execution_count": 15,
   "metadata": {
    "collapsed": true
   },
   "outputs": [],
   "source": [
    "import matplotlib.pyplot as plt\n",
    "from sklearn.linear_model import LinearRegression\n"
   ]
  },
  {
   "cell_type": "markdown",
   "metadata": {},
   "source": [
    "\n",
    "We can Fit a linear regression model using the  longitude feature <code> 'long'</code> and  caculate the R^2."
   ]
  },
  {
   "cell_type": "code",
   "execution_count": 20,
   "metadata": {},
   "outputs": [
    {
     "data": {
      "text/plain": [
       "0.00046769430149007363"
      ]
     },
     "execution_count": 20,
     "metadata": {},
     "output_type": "execute_result"
    }
   ],
   "source": [
    "X = df[['long']]\n",
    "Y = df['price']\n",
    "lm = LinearRegression()\n",
    "lm\n",
    "lm.fit(X,Y)\n",
    "lm.score(X, Y)"
   ]
  },
  {
   "cell_type": "markdown",
   "metadata": {},
   "source": [
    "### Question  6\n",
    "Fit a linear regression model to predict the <code>'price'</code> using the feature 'sqft_living' then calculate the R^2. Take a screenshot of your code and the value of the R^2."
   ]
  },
  {
   "cell_type": "code",
   "execution_count": 18,
   "metadata": {},
   "outputs": [
    {
     "data": {
      "text/plain": [
       "0.49285321790379316"
      ]
     },
     "execution_count": 18,
     "metadata": {},
     "output_type": "execute_result"
    }
   ],
   "source": [
    "X = df[['sqft_living']]\n",
    "Y = df['price']\n",
    "lm1 = LinearRegression()\n",
    "lm1.fit(X,Y)\n",
    "lm1.score(X, Y)"
   ]
  },
  {
   "cell_type": "markdown",
   "metadata": {},
   "source": [
    "### Question 7\n",
    "Fit a linear regression model to predict the 'price' using the list of features:"
   ]
  },
  {
   "cell_type": "code",
   "execution_count": 11,
   "metadata": {
    "collapsed": true
   },
   "outputs": [],
   "source": [
    "features =[\"floors\", \"waterfront\",\"lat\" ,\"bedrooms\" ,\"sqft_basement\" ,\"view\" ,\"bathrooms\",\"sqft_living15\",\"sqft_above\",\"grade\",\"sqft_living\"]"
   ]
  },
  {
   "cell_type": "code",
   "execution_count": 24,
   "metadata": {
    "collapsed": true
   },
   "outputs": [],
   "source": [
    "X=df[features]\n",
    "Y = df['price']"
   ]
  },
  {
   "cell_type": "code",
   "execution_count": 25,
   "metadata": {
    "collapsed": true
   },
   "outputs": [],
   "source": [
    "lm1 = LinearRegression()"
   ]
  },
  {
   "cell_type": "code",
   "execution_count": 26,
   "metadata": {},
   "outputs": [
    {
     "data": {
      "text/plain": [
       "array([ 285112.14176653,  660920.14176653,  309688.14176653, ...,\n",
       "        303544.14176653,  427960.14176653,  303032.14176653])"
      ]
     },
     "execution_count": 26,
     "metadata": {},
     "output_type": "execute_result"
    }
   ],
   "source": [
    "lm1.fit(X,Y)\n",
    "lm1.predict(X)"
   ]
  },
  {
   "cell_type": "markdown",
   "metadata": {},
   "source": [
    "the calculate the R^2. Take a screenshot of your code"
   ]
  },
  {
   "cell_type": "code",
   "execution_count": 27,
   "metadata": {},
   "outputs": [
    {
     "data": {
      "text/plain": [
       "0.65765248291339251"
      ]
     },
     "execution_count": 27,
     "metadata": {},
     "output_type": "execute_result"
    }
   ],
   "source": [
    "lm1.score(X,Y)"
   ]
  },
  {
   "cell_type": "markdown",
   "metadata": {},
   "source": [
    "#### this will help with Question 8\n",
    "\n",
    "Create a list of tuples, the first element in the tuple contains the name of the estimator:\n",
    "\n",
    "<code>'scale'</code>\n",
    "\n",
    "<code>'polynomial'</code>\n",
    "\n",
    "<code>'model'</code>\n",
    "\n",
    "The second element in the tuple  contains the model constructor \n",
    "\n",
    "<code>StandardScaler()</code>\n",
    "\n",
    "<code>PolynomialFeatures(include_bias=False)</code>\n",
    "\n",
    "<code>LinearRegression()</code>\n"
   ]
  },
  {
   "cell_type": "code",
   "execution_count": 29,
   "metadata": {
    "collapsed": true
   },
   "outputs": [],
   "source": [
    "Input=[('scale',StandardScaler()),('polynomial', PolynomialFeatures(include_bias=False)),('model',LinearRegression())]"
   ]
  },
  {
   "cell_type": "markdown",
   "metadata": {},
   "source": [
    "### Question 8\n",
    "Use the list to create a pipeline object,  predict the 'price', fit the object using the features in the list <code> features </code>, then fit the model and calculate the R^2"
   ]
  },
  {
   "cell_type": "code",
   "execution_count": 30,
   "metadata": {},
   "outputs": [
    {
     "data": {
      "text/plain": [
       "Pipeline(steps=[('scale', StandardScaler(copy=True, with_mean=True, with_std=True)), ('polynomial', PolynomialFeatures(degree=2, include_bias=False, interaction_only=False)), ('model', LinearRegression(copy_X=True, fit_intercept=True, n_jobs=1, normalize=False))])"
      ]
     },
     "execution_count": 30,
     "metadata": {},
     "output_type": "execute_result"
    }
   ],
   "source": [
    "pipe=Pipeline(Input)\n",
    "pipe"
   ]
  },
  {
   "cell_type": "code",
   "execution_count": 31,
   "metadata": {},
   "outputs": [
    {
     "data": {
      "text/plain": [
       "array([ 349605.  ,  559091.5 ,  449454.25, ...,  417296.  ,  459707.75,\n",
       "        417245.5 ])"
      ]
     },
     "execution_count": 31,
     "metadata": {},
     "output_type": "execute_result"
    }
   ],
   "source": [
    "pipe.fit(X,Y)#X=df[features]\n",
    "pipe.predict(X)"
   ]
  },
  {
   "cell_type": "code",
   "execution_count": 32,
   "metadata": {},
   "outputs": [
    {
     "data": {
      "text/plain": [
       "0.7513413655443435"
      ]
     },
     "execution_count": 32,
     "metadata": {},
     "output_type": "execute_result"
    }
   ],
   "source": [
    "pipe.score(X,Y)"
   ]
  },
  {
   "cell_type": "markdown",
   "metadata": {},
   "source": [
    "# Module 5: MODEL EVALUATION AND REFINEMENT"
   ]
  },
  {
   "cell_type": "markdown",
   "metadata": {},
   "source": [
    "import the necessary modules  "
   ]
  },
  {
   "cell_type": "code",
   "execution_count": 33,
   "metadata": {},
   "outputs": [
    {
     "name": "stdout",
     "output_type": "stream",
     "text": [
      "done\n"
     ]
    }
   ],
   "source": [
    "from sklearn.model_selection import cross_val_score\n",
    "from sklearn.model_selection import train_test_split\n",
    "print(\"done\")"
   ]
  },
  {
   "cell_type": "markdown",
   "metadata": {},
   "source": [
    "we will split the data into training and testing set"
   ]
  },
  {
   "cell_type": "code",
   "execution_count": 37,
   "metadata": {},
   "outputs": [
    {
     "name": "stdout",
     "output_type": "stream",
     "text": [
      "number of test samples : 3242\n",
      "number of training samples: 18371\n"
     ]
    }
   ],
   "source": [
    "features =[\"floors\", \"waterfront\",\"lat\" ,\"bedrooms\" ,\"sqft_basement\" ,\"view\" ,\"bathrooms\",\"sqft_living15\",\"sqft_above\",\"grade\",\"sqft_living\"]    \n",
    "X = df[features ]\n",
    "Y = df['price']\n",
    "\n",
    "x_train, x_test, y_train, y_test = train_test_split(X, Y, test_size=0.15, random_state=1)\n",
    "\n",
    "\n",
    "print(\"number of test samples :\", x_test.shape[0])\n",
    "print(\"number of training samples:\",x_train.shape[0])"
   ]
  },
  {
   "cell_type": "markdown",
   "metadata": {},
   "source": [
    "### Question 9\n",
    "Create and fit a Ridge regression object using the training data, setting the regularization parameter to 0.1 and calculate the R^2 using the test data. \n"
   ]
  },
  {
   "cell_type": "code",
   "execution_count": 38,
   "metadata": {
    "collapsed": true
   },
   "outputs": [],
   "source": [
    "from sklearn.linear_model import Ridge"
   ]
  },
  {
   "cell_type": "code",
   "execution_count": 41,
   "metadata": {},
   "outputs": [
    {
     "data": {
      "text/plain": [
       "0.64787591639391151"
      ]
     },
     "execution_count": 41,
     "metadata": {},
     "output_type": "execute_result"
    }
   ],
   "source": [
    "RigeModel=Ridge(alpha=0.1)\n",
    "RigeModel.fit(x_train, y_train)\n",
    "RigeModel.score(x_test, y_test)"
   ]
  },
  {
   "cell_type": "markdown",
   "metadata": {},
   "source": [
    "### Question 10\n",
    "Perform a second order polynomial transform on both the training data and testing data. Create and fit a Ridge regression object using the training data, setting the regularisation parameter to 0.1.  Calculate the R^2 utilising the test data provided. Take a screenshot of your code and the R^2."
   ]
  },
  {
   "cell_type": "code",
   "execution_count": 46,
   "metadata": {},
   "outputs": [
    {
     "data": {
      "text/plain": [
       "PolynomialFeatures(degree=2, include_bias=True, interaction_only=False)"
      ]
     },
     "execution_count": 46,
     "metadata": {},
     "output_type": "execute_result"
    }
   ],
   "source": [
    "from sklearn.preprocessing import PolynomialFeatures\n",
    "pr = PolynomialFeatures(degree=2)\n",
    "x_train = pr.fit_transform(x_train)\n",
    "x_test = pr.fit_transform(x_test)\n",
    "pr"
   ]
  },
  {
   "cell_type": "code",
   "execution_count": 47,
   "metadata": {},
   "outputs": [
    {
     "data": {
      "text/plain": [
       "0.70027442664101702"
      ]
     },
     "execution_count": 47,
     "metadata": {},
     "output_type": "execute_result"
    }
   ],
   "source": [
    "RigeModel=Ridge(alpha=0.1)\n",
    "RigeModel.fit(x_train, y_train)\n",
    "RigeModel.score(x_test, y_test)"
   ]
  }
